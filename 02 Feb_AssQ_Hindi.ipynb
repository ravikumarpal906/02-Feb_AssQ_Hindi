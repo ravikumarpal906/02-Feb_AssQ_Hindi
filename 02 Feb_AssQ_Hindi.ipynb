{
 "cells": [
  {
   "cell_type": "markdown",
   "id": "ea5f426a-d481-4f67-8bdd-3baf56f7757d",
   "metadata": {},
   "source": [
    "Q1. Explain with an example each when to use a for loop and a while loop."
   ]
  },
  {
   "cell_type": "code",
   "execution_count": 1,
   "id": "413ffbce-8c56-4e3c-95a3-b34bd274baaa",
   "metadata": {},
   "outputs": [
    {
     "data": {
      "text/plain": [
       "' Use a for loop when you know the number of iterations \\nor when you want to iterate over a sequence (e.g., a list, tuple, string, or range) \\nfor a fixed number of times.'"
      ]
     },
     "execution_count": 1,
     "metadata": {},
     "output_type": "execute_result"
    }
   ],
   "source": [
    "\"\"\" Use a for loop when you know the number of iterations \n",
    "or when you want to iterate over a sequence (e.g., a list, tuple, string, or range) \n",
    "for a fixed number of times.\"\"\""
   ]
  },
  {
   "cell_type": "code",
   "execution_count": 2,
   "id": "c58ab214-cbae-4e6a-b978-e49a8c3878dc",
   "metadata": {},
   "outputs": [
    {
     "name": "stdout",
     "output_type": "stream",
     "text": [
      "0\n",
      "1\n",
      "2\n",
      "3\n",
      "4\n"
     ]
    }
   ],
   "source": [
    "for i in range(5):\n",
    "    print(i)"
   ]
  },
  {
   "cell_type": "code",
   "execution_count": 3,
   "id": "f5767df4-a17f-4de3-9a00-07074dc3df6b",
   "metadata": {},
   "outputs": [
    {
     "data": {
      "text/plain": [
       "\"\\nUse a while loop when you don't know the number of iterations in \\nadvance or when you want to repeat a block of code until a specific condition is met.\\n\""
      ]
     },
     "execution_count": 3,
     "metadata": {},
     "output_type": "execute_result"
    }
   ],
   "source": [
    "\"\"\"\n",
    "Use a while loop when you don't know the number of iterations in \n",
    "advance or when you want to repeat a block of code until a specific condition is met.\n",
    "\"\"\""
   ]
  },
  {
   "cell_type": "code",
   "execution_count": 4,
   "id": "3e8a1817-0a46-43c8-974a-3fb0e0effbee",
   "metadata": {},
   "outputs": [
    {
     "name": "stdin",
     "output_type": "stream",
     "text": [
      "Enter a command (or 'quit' to exit):  456\n",
      "Enter a command (or 'quit' to exit):  quit\n"
     ]
    }
   ],
   "source": [
    "a=\"\"\n",
    "while a!=\"quit\":\n",
    "    a=input(\"Enter a command (or 'quit' to exit): \")"
   ]
  },
  {
   "cell_type": "markdown",
   "id": "2a2ef84d-d913-428a-8fe7-9106ef6dad48",
   "metadata": {},
   "source": [
    "Q2. Write a python program to print the sum and product of the first 10 natural numbers using for\n",
    "and while loop."
   ]
  },
  {
   "cell_type": "code",
   "execution_count": 6,
   "id": "326cfafc-518b-4cd7-9a30-a84b614af614",
   "metadata": {},
   "outputs": [
    {
     "name": "stdout",
     "output_type": "stream",
     "text": [
      "sum of first 10 natural number : 55\n",
      "product of first 10 natural number : 3628800\n"
     ]
    }
   ],
   "source": [
    "# for loop\n",
    "\n",
    "sm=0\n",
    "product=1\n",
    "for i in range(1,11):\n",
    "    sm+=i\n",
    "    product*=i\n",
    "print(f\"sum of first 10 natural number : {sm}\")\n",
    "print(f\"product of first 10 natural number : {product}\")"
   ]
  },
  {
   "cell_type": "code",
   "execution_count": 7,
   "id": "22d5fac3-10ad-4295-a954-19273d2d6de8",
   "metadata": {},
   "outputs": [
    {
     "name": "stdout",
     "output_type": "stream",
     "text": [
      "sum of first 10 natural number : 55\n",
      "product of first 10 natural number : 3628800\n"
     ]
    }
   ],
   "source": [
    "# while loop\n",
    "\n",
    "sm =0\n",
    "product=1\n",
    "counter=1\n",
    "while counter<=10:\n",
    "    sm+=counter\n",
    "    product*=counter\n",
    "    counter+=1\n",
    "print(f\"sum of first 10 natural number : {sm}\")\n",
    "print(f\"product of first 10 natural number : {product}\")"
   ]
  },
  {
   "cell_type": "markdown",
   "id": "9c865844-247d-48a4-86e5-d6b5cb588db2",
   "metadata": {},
   "source": [
    "Q3. Create a python program to compute the electricity bill for a household.\n",
    "The per-unit charges in rupees are as follows: For the first 100 units, the user will be charged Rs. 4.5 per\n",
    "unit, for the next 100 units, the user will be charged Rs. 6 per unit, and for the next 100 units, the user will\n",
    "be charged Rs. 10 per unit, After 300 units and above the user will be charged Rs. 20 per unit.\n",
    "You are required to take the units of electricity consumed in a month from the user as input.\n",
    "Your program must pass this test case: when the unit of electricity consumed by the user in a month is\n",
    "310, the total electricity bill should be 2250."
   ]
  },
  {
   "cell_type": "code",
   "execution_count": 10,
   "id": "6bd0a702-2630-4474-9c70-e5674871c6ab",
   "metadata": {},
   "outputs": [
    {
     "name": "stdin",
     "output_type": "stream",
     "text": [
      "enter the unit of electricity consumed by the user in a month :  310\n"
     ]
    },
    {
     "name": "stdout",
     "output_type": "stream",
     "text": [
      "Total electricity bill : 2250.0\n"
     ]
    }
   ],
   "source": [
    "#input the total unit of electricity consumed by uder in a month and initialized the bill is zero\n",
    "unit=int(input(\"enter the unit of electricity consumed by the user in a month : \"))\n",
    "bill=0\n",
    "\n",
    "#calculate electricity bill for total unit consumed in a month\n",
    "if unit>=100:\n",
    "    bill+=(100*4.5)\n",
    "    unit-=100\n",
    "elif unit>0:\n",
    "    bill+=(unit*4.5)\n",
    "if unit>=100:\n",
    "    bill+=(100*6)\n",
    "    unit-=100\n",
    "elif unit>0:\n",
    "    bill+=(unit*6)\n",
    "if unit>=100:\n",
    "    bill+=(100*10)\n",
    "    unit-=100\n",
    "elif unit>0:\n",
    "    bill+=(unit*10)\n",
    "if unit>0:\n",
    "    bill+=(unit*20)\n",
    "\n",
    "#display tatal bill in Rs.\n",
    "print(f\"Total electricity bill : {bill}\")"
   ]
  },
  {
   "cell_type": "markdown",
   "id": "189f019f-538c-479a-b89c-5ff448bc78f3",
   "metadata": {},
   "source": [
    "Q4. Create a list of numbers from 1 to 100. Use for loop and while loop to calculate the cube of each\n",
    "number and if the cube of that number is divisible by 4 or 5 then append that number in a list and print\n",
    "that list."
   ]
  },
  {
   "cell_type": "code",
   "execution_count": 11,
   "id": "60bb3cfa-6953-449e-8eb6-4c470069ac63",
   "metadata": {},
   "outputs": [
    {
     "name": "stdout",
     "output_type": "stream",
     "text": [
      "[2, 4, 5, 6, 8, 10, 12, 14, 15, 16, 18, 20, 22, 24, 25, 26, 28, 30, 32, 34, 35, 36, 38, 40, 42, 44, 45, 46, 48, 50, 52, 54, 55, 56, 58, 60, 62, 64, 65, 66, 68, 70, 72, 74, 75, 76, 78, 80, 82, 84, 85, 86, 88, 90, 92, 94, 95, 96, 98, 100]\n"
     ]
    }
   ],
   "source": [
    "# Using a for loop to calculate the cubes and filter numbers\n",
    "numbers = list(range(1, 101))\n",
    "result_list = []\n",
    "\n",
    "for num in numbers:\n",
    "    cube = num ** 3\n",
    "    if cube % 4 == 0 or cube % 5 == 0:\n",
    "        result_list.append(num)\n",
    "\n",
    "# Print the list of numbers whose cubes are divisible by 4 or 5\n",
    "print(result_list)\n"
   ]
  },
  {
   "cell_type": "code",
   "execution_count": 12,
   "id": "e6e564ef-c322-40ea-b0b2-54d893ef20a0",
   "metadata": {},
   "outputs": [
    {
     "name": "stdout",
     "output_type": "stream",
     "text": [
      "[2, 4, 5, 6, 8, 10, 12, 14, 15, 16, 18, 20, 22, 24, 25, 26, 28, 30, 32, 34, 35, 36, 38, 40, 42, 44, 45, 46, 48, 50, 52, 54, 55, 56, 58, 60, 62, 64, 65, 66, 68, 70, 72, 74, 75, 76, 78, 80, 82, 84, 85, 86, 88, 90, 92, 94, 95, 96, 98, 100]\n"
     ]
    }
   ],
   "source": [
    "# Using a while loop to calculate the cubes and filter numbers\n",
    "numbers = list(range(1, 101))\n",
    "result_list = []\n",
    "\n",
    "i = 0\n",
    "while i < len(numbers):\n",
    "    num = numbers[i]\n",
    "    cube = num ** 3\n",
    "    if cube % 4 == 0 or cube % 5 == 0:\n",
    "        result_list.append(num)\n",
    "    i += 1\n",
    "\n",
    "# Print the list of numbers whose cubes are divisible by 4 or 5\n",
    "print(result_list)\n"
   ]
  },
  {
   "cell_type": "markdown",
   "id": "41bfdc40-40f1-4b10-92e4-24f96e4deec9",
   "metadata": {},
   "source": [
    "Q5. Write a program to filter count vowels in the below-given string.\n",
    "string = \"I want to become a data scientist\""
   ]
  },
  {
   "cell_type": "code",
   "execution_count": null,
   "id": "7a4c8f28-250c-44bf-a3c7-0e9ce68897fe",
   "metadata": {},
   "outputs": [],
   "source": []
  }
 ],
 "metadata": {
  "kernelspec": {
   "display_name": "Python 3 (ipykernel)",
   "language": "python",
   "name": "python3"
  },
  "language_info": {
   "codemirror_mode": {
    "name": "ipython",
    "version": 3
   },
   "file_extension": ".py",
   "mimetype": "text/x-python",
   "name": "python",
   "nbconvert_exporter": "python",
   "pygments_lexer": "ipython3",
   "version": "3.10.8"
  }
 },
 "nbformat": 4,
 "nbformat_minor": 5
}
